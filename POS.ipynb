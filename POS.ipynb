{
 "cells": [
  {
   "cell_type": "code",
   "execution_count": 2,
   "id": "40547e9a",
   "metadata": {},
   "outputs": [],
   "source": [
    "import spacy"
   ]
  },
  {
   "cell_type": "code",
   "execution_count": 3,
   "id": "8c587ce8",
   "metadata": {},
   "outputs": [],
   "source": [
    "nlp = spacy.load(\"en_core_web_sm\")"
   ]
  },
  {
   "cell_type": "code",
   "execution_count": 4,
   "id": "314c4ee7",
   "metadata": {},
   "outputs": [
    {
     "name": "stdout",
     "output_type": "stream",
     "text": [
      "Elon | PROPN | proper noun\n",
      "flew | VERB | verb\n",
      "to | ADP | adposition\n",
      "mars | NOUN | noun\n",
      "yesterday | NOUN | noun\n",
      ". | PUNCT | punctuation\n",
      "He | PRON | pronoun\n",
      "carried | VERB | verb\n",
      "biryani | ADJ | adjective\n",
      "masala | NOUN | noun\n",
      "with | ADP | adposition\n",
      "him | PRON | pronoun\n"
     ]
    }
   ],
   "source": [
    "doc = nlp(\"Elon flew to mars yesterday. He carried biryani masala with him\")\n",
    "for token in doc:\n",
    "    print(token, \"|\", token.pos_, \"|\", spacy.explain(token.pos_))"
   ]
  },
  {
   "cell_type": "code",
   "execution_count": 5,
   "id": "2b141de0",
   "metadata": {},
   "outputs": [
    {
     "data": {
      "text/plain": [
       "['tok2vec', 'tagger', 'parser', 'attribute_ruler', 'lemmatizer', 'ner']"
      ]
     },
     "execution_count": 5,
     "metadata": {},
     "output_type": "execute_result"
    }
   ],
   "source": [
    "nlp.pipe_names"
   ]
  },
  {
   "cell_type": "code",
   "execution_count": 6,
   "id": "ad375cff",
   "metadata": {},
   "outputs": [
    {
     "name": "stdout",
     "output_type": "stream",
     "text": [
      "Wow | INTJ | interjection | UH | interjection\n",
      "! | PUNCT | punctuation | . | punctuation mark, sentence closer\n",
      "Dr. | PROPN | proper noun | NNP | noun, proper singular\n",
      "Strange | PROPN | proper noun | NNP | noun, proper singular\n",
      "made | VERB | verb | VBD | verb, past tense\n",
      "265 | NUM | numeral | CD | cardinal number\n",
      "million | NUM | numeral | CD | cardinal number\n",
      "$ | NUM | numeral | CD | cardinal number\n",
      "on | ADP | adposition | IN | conjunction, subordinating or preposition\n",
      "the | DET | determiner | DT | determiner\n",
      "very | ADV | adverb | RB | adverb\n",
      "first | ADJ | adjective | JJ | adjective (English), other noun-modifier (Chinese)\n",
      "day | NOUN | noun | NN | noun, singular or mass\n"
     ]
    }
   ],
   "source": [
    "doc = nlp(\"Wow! Dr. Strange made 265 million $ on the very first day\")\n",
    "for token in doc:\n",
    "    print(token,\"|\",token.pos_,\"|\", spacy.explain(token.pos_),\"|\", token.tag_,\"|\",spacy.explain(token.tag_))"
   ]
  },
  {
   "cell_type": "code",
   "execution_count": 7,
   "id": "808ca504",
   "metadata": {},
   "outputs": [
    {
     "name": "stdout",
     "output_type": "stream",
     "text": [
      "quit | VBD | verb, past tense\n"
     ]
    }
   ],
   "source": [
    "doc = nlp(\"He quit the job\")\n",
    "doc[1]\n",
    "print(doc[1].text, \"|\", doc[1].tag_,\"|\", spacy.explain(doc[1].tag_))"
   ]
  },
  {
   "cell_type": "code",
   "execution_count": 8,
   "id": "7a54aa75",
   "metadata": {},
   "outputs": [],
   "source": [
    "earnings_text = ''' Microsoft Corp. today announced the following results for the quarter ended September 30, 2023, as compared to the corresponding period of last fiscal year:\n",
    "\n",
    "·        Revenue was $56.5 billion and increased 13% (up 12% in constant currency)\n",
    "\n",
    "·        Operating income was $26.9 billion and increased 25% (up 24% in constant currency)\n",
    "\n",
    "·        Net income was $22.3 billion and increased 27% (up 26% in constant currency)\n",
    "\n",
    "·        Diluted earnings per share was $2.99 and increased 27% (up 26% in constant currency)'''"
   ]
  },
  {
   "cell_type": "code",
   "execution_count": 9,
   "id": "22873170",
   "metadata": {},
   "outputs": [
    {
     "name": "stdout",
     "output_type": "stream",
     "text": [
      "Microsoft  |  PROPN  |  proper noun\n",
      "Corp.  |  PROPN  |  proper noun\n",
      "today  |  NOUN  |  noun\n",
      "announced  |  VERB  |  verb\n",
      "the  |  DET  |  determiner\n",
      "following  |  VERB  |  verb\n",
      "results  |  NOUN  |  noun\n",
      "for  |  ADP  |  adposition\n",
      "the  |  DET  |  determiner\n",
      "quarter  |  NOUN  |  noun\n",
      "ended  |  VERB  |  verb\n",
      "September  |  PROPN  |  proper noun\n",
      "30  |  NUM  |  numeral\n",
      "2023  |  NUM  |  numeral\n",
      "as  |  SCONJ  |  subordinating conjunction\n",
      "compared  |  VERB  |  verb\n",
      "to  |  ADP  |  adposition\n",
      "the  |  DET  |  determiner\n",
      "corresponding  |  ADJ  |  adjective\n",
      "period  |  NOUN  |  noun\n",
      "of  |  ADP  |  adposition\n",
      "last  |  ADJ  |  adjective\n",
      "fiscal  |  ADJ  |  adjective\n",
      "year  |  NOUN  |  noun\n",
      "Revenue  |  NOUN  |  noun\n",
      "was  |  AUX  |  auxiliary\n",
      "$  |  SYM  |  symbol\n",
      "56.5  |  NUM  |  numeral\n",
      "billion  |  NUM  |  numeral\n",
      "and  |  CCONJ  |  coordinating conjunction\n",
      "increased  |  VERB  |  verb\n",
      "13  |  NUM  |  numeral\n",
      "%  |  NOUN  |  noun\n",
      "up  |  ADV  |  adverb\n",
      "12  |  NUM  |  numeral\n",
      "%  |  NOUN  |  noun\n",
      "in  |  ADP  |  adposition\n",
      "constant  |  ADJ  |  adjective\n",
      "currency  |  NOUN  |  noun\n",
      "Operating  |  VERB  |  verb\n",
      "income  |  NOUN  |  noun\n",
      "was  |  AUX  |  auxiliary\n",
      "$  |  SYM  |  symbol\n",
      "26.9  |  NUM  |  numeral\n",
      "billion  |  NUM  |  numeral\n",
      "and  |  CCONJ  |  coordinating conjunction\n",
      "increased  |  VERB  |  verb\n",
      "25  |  NUM  |  numeral\n",
      "%  |  NOUN  |  noun\n",
      "up  |  ADV  |  adverb\n",
      "24  |  NUM  |  numeral\n",
      "%  |  NOUN  |  noun\n",
      "in  |  ADP  |  adposition\n",
      "constant  |  ADJ  |  adjective\n",
      "currency  |  NOUN  |  noun\n",
      "Net  |  ADJ  |  adjective\n",
      "income  |  NOUN  |  noun\n",
      "was  |  AUX  |  auxiliary\n",
      "$  |  SYM  |  symbol\n",
      "22.3  |  NUM  |  numeral\n",
      "billion  |  NUM  |  numeral\n",
      "and  |  CCONJ  |  coordinating conjunction\n",
      "increased  |  VERB  |  verb\n",
      "27  |  NUM  |  numeral\n",
      "%  |  NOUN  |  noun\n",
      "up  |  ADV  |  adverb\n",
      "26  |  NUM  |  numeral\n",
      "%  |  NOUN  |  noun\n",
      "in  |  ADP  |  adposition\n",
      "constant  |  ADJ  |  adjective\n",
      "currency  |  NOUN  |  noun\n",
      "Diluted  |  VERB  |  verb\n",
      "earnings  |  NOUN  |  noun\n",
      "per  |  ADP  |  adposition\n",
      "share  |  NOUN  |  noun\n",
      "was  |  AUX  |  auxiliary\n",
      "$  |  SYM  |  symbol\n",
      "2.99  |  NUM  |  numeral\n",
      "and  |  CCONJ  |  coordinating conjunction\n",
      "increased  |  VERB  |  verb\n",
      "27  |  NUM  |  numeral\n",
      "%  |  NOUN  |  noun\n",
      "up  |  ADV  |  adverb\n",
      "26  |  NUM  |  numeral\n",
      "%  |  NOUN  |  noun\n",
      "in  |  ADP  |  adposition\n",
      "constant  |  ADJ  |  adjective\n",
      "currency  |  NOUN  |  noun\n"
     ]
    }
   ],
   "source": [
    "doc = nlp(earnings_text)\n",
    "for token in doc:\n",
    "    if token.pos_ not in [\"SPACE\",\"X\",\"PUNCT\"]:\n",
    "        print(token,\" | \", token.pos_,\" | \", spacy.explain(token.pos_))"
   ]
  },
  {
   "cell_type": "code",
   "execution_count": 10,
   "id": "a70ec6f3",
   "metadata": {},
   "outputs": [],
   "source": [
    "doc = nlp(earnings_text)\n",
    "filtered_tokens=[]\n",
    "for token in doc:\n",
    "    if token.pos_ not in [\"SPACE\",\"X\",\"PUNCT\"]:\n",
    "        filtered_tokens.append(token)"
   ]
  },
  {
   "cell_type": "code",
   "execution_count": 11,
   "id": "04082344",
   "metadata": {},
   "outputs": [
    {
     "data": {
      "text/plain": [
       "[Microsoft,\n",
       " Corp.,\n",
       " today,\n",
       " announced,\n",
       " the,\n",
       " following,\n",
       " results,\n",
       " for,\n",
       " the,\n",
       " quarter,\n",
       " ended,\n",
       " September,\n",
       " 30,\n",
       " 2023,\n",
       " as,\n",
       " compared,\n",
       " to,\n",
       " the,\n",
       " corresponding,\n",
       " period,\n",
       " of,\n",
       " last,\n",
       " fiscal,\n",
       " year,\n",
       " Revenue,\n",
       " was,\n",
       " $,\n",
       " 56.5,\n",
       " billion,\n",
       " and,\n",
       " increased,\n",
       " 13,\n",
       " %,\n",
       " up,\n",
       " 12,\n",
       " %,\n",
       " in,\n",
       " constant,\n",
       " currency,\n",
       " Operating,\n",
       " income,\n",
       " was,\n",
       " $,\n",
       " 26.9,\n",
       " billion,\n",
       " and,\n",
       " increased,\n",
       " 25,\n",
       " %,\n",
       " up,\n",
       " 24,\n",
       " %,\n",
       " in,\n",
       " constant,\n",
       " currency,\n",
       " Net,\n",
       " income,\n",
       " was,\n",
       " $,\n",
       " 22.3,\n",
       " billion,\n",
       " and,\n",
       " increased,\n",
       " 27,\n",
       " %,\n",
       " up,\n",
       " 26,\n",
       " %,\n",
       " in,\n",
       " constant,\n",
       " currency,\n",
       " Diluted,\n",
       " earnings,\n",
       " per,\n",
       " share,\n",
       " was,\n",
       " $,\n",
       " 2.99,\n",
       " and,\n",
       " increased,\n",
       " 27,\n",
       " %,\n",
       " up,\n",
       " 26,\n",
       " %,\n",
       " in,\n",
       " constant,\n",
       " currency]"
      ]
     },
     "execution_count": 11,
     "metadata": {},
     "output_type": "execute_result"
    }
   ],
   "source": [
    "filtered_tokens"
   ]
  },
  {
   "cell_type": "code",
   "execution_count": 12,
   "id": "d1949123",
   "metadata": {},
   "outputs": [
    {
     "data": {
      "text/plain": [
       "{103: 9,\n",
       " 96: 3,\n",
       " 92: 22,\n",
       " 100: 10,\n",
       " 90: 3,\n",
       " 85: 8,\n",
       " 93: 17,\n",
       " 97: 15,\n",
       " 98: 1,\n",
       " 84: 8,\n",
       " 87: 4,\n",
       " 99: 4,\n",
       " 89: 4,\n",
       " 86: 4}"
      ]
     },
     "execution_count": 12,
     "metadata": {},
     "output_type": "execute_result"
    }
   ],
   "source": [
    "count = doc.count_by(spacy.attrs.POS)\n",
    "count"
   ]
  },
  {
   "cell_type": "code",
   "execution_count": 13,
   "id": "8876b75c",
   "metadata": {},
   "outputs": [
    {
     "data": {
      "text/plain": [
       "'PROPN'"
      ]
     },
     "execution_count": 13,
     "metadata": {},
     "output_type": "execute_result"
    }
   ],
   "source": [
    "doc.vocab[96].text"
   ]
  },
  {
   "cell_type": "code",
   "execution_count": 14,
   "id": "8b615c71",
   "metadata": {},
   "outputs": [
    {
     "name": "stdout",
     "output_type": "stream",
     "text": [
      "SPACE | 9\n",
      "PROPN | 3\n",
      "NOUN | 22\n",
      "VERB | 10\n",
      "DET | 3\n",
      "ADP | 8\n",
      "NUM | 17\n",
      "PUNCT | 15\n",
      "SCONJ | 1\n",
      "ADJ | 8\n",
      "AUX | 4\n",
      "SYM | 4\n",
      "CCONJ | 4\n",
      "ADV | 4\n"
     ]
    }
   ],
   "source": [
    "for k,v in count.items():\n",
    "    print(doc.vocab[k].text,\"|\",v)"
   ]
  },
  {
   "cell_type": "code",
   "execution_count": null,
   "id": "ac66682b",
   "metadata": {},
   "outputs": [],
   "source": []
  },
  {
   "cell_type": "code",
   "execution_count": null,
   "id": "8016a5ae",
   "metadata": {},
   "outputs": [],
   "source": []
  },
  {
   "cell_type": "code",
   "execution_count": null,
   "id": "2e51ce67",
   "metadata": {},
   "outputs": [],
   "source": []
  }
 ],
 "metadata": {
  "kernelspec": {
   "display_name": "Python 3 (ipykernel)",
   "language": "python",
   "name": "python3"
  },
  "language_info": {
   "codemirror_mode": {
    "name": "ipython",
    "version": 3
   },
   "file_extension": ".py",
   "mimetype": "text/x-python",
   "name": "python",
   "nbconvert_exporter": "python",
   "pygments_lexer": "ipython3",
   "version": "3.10.9"
  }
 },
 "nbformat": 4,
 "nbformat_minor": 5
}
